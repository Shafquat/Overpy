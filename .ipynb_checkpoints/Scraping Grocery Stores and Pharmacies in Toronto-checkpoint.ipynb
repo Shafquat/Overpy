{
 "cells": [
  {
   "cell_type": "code",
   "execution_count": 77,
   "metadata": {},
   "outputs": [],
   "source": [
    "import pandas as pd\n",
    "import overpy\n",
    "api = overpy.Overpass()\n",
    "\n",
    "from shapely.geometry import Point\n",
    "import geopandas"
   ]
  },
  {
   "cell_type": "markdown",
   "metadata": {},
   "source": [
    "## Large Chains\n",
    "* Shoppers Drug Mart\n",
    "* Rexall\n",
    "* Guardian/IDA\n",
    "* Esso\n",
    "* Shell\n",
    "* Petro Canada\n",
    "* Loblaws\n",
    "* No Frills\n",
    "* Walmart\n",
    "* Costco\n",
    "* [Rabba](https://rabba.com/locations)\n",
    "* Freshco\n",
    "* Sobeys\n",
    "* CIBC\n",
    "* TD\n",
    "* Scotiabank\n",
    "* RBC\n",
    "* BMO\n"
   ]
  },
  {
   "cell_type": "code",
   "execution_count": 53,
   "metadata": {
    "collapsed": true
   },
   "outputs": [],
   "source": [
    "# Declaring nodes\n",
    "\n",
    "# https://wiki.openstreetmap.org/wiki/Tag:shop%3Dsupermarket\n",
    "supermarket_node = \"'shop'='supermarket'\"\n",
    "# https://wiki.openstreetmap.org/wiki/Tag:amenity%3Dpharmacy\n",
    "pharmacy_node = \"'amenity'='pharmacy'\"\n",
    "# https://wiki.openstreetmap.org/wiki/Tag:amenity%3Dfuel\n",
    "gas_node = \"'amenity'='fuel'\"\n",
    "# https://wiki.openstreetmap.org/wiki/Tag:amenity%3Dbank\n",
    "bank_node = \"'amenity'='bank'\"\n",
    "# https://wiki.openstreetmap.org/wiki/Tag:shop%3Dconvenience\n",
    "convenience_node = \"'shop'='convenience'\"\n",
    "# https://wiki.openstreetmap.org/wiki/Tag:shop%3Dhardware\n",
    "hardware_node = \"'shop'='hardware'\"\n",
    "\n",
    "# Area ID\n",
    "Toronto = \"3600324211\""
   ]
  },
  {
   "cell_type": "code",
   "execution_count": 54,
   "metadata": {},
   "outputs": [],
   "source": [
    "# Defining a query function to get the Overpass API data\n",
    "def osm_query(Area,node):\n",
    "    result = api.query(\"\"\"\n",
    "        [out:json];\n",
    "        area(\"\"\"+Area+\"\"\");\n",
    "        (node[\"\"\"+node+\"\"\"](area);\n",
    "        );\n",
    "        out center;\n",
    "        \"\"\")\n",
    "    print(\"Amount of Nodes found in \" + Area+ \":\", len(result.nodes))\n",
    "    return result"
   ]
  },
  {
   "cell_type": "markdown",
   "metadata": {},
   "source": [
    "## Grocery Stores"
   ]
  },
  {
   "cell_type": "code",
   "execution_count": 55,
   "metadata": {},
   "outputs": [
    {
     "name": "stdout",
     "output_type": "stream",
     "text": [
      "Amount of Nodes found in 3600324211: 276\n"
     ]
    }
   ],
   "source": [
    "s_result = osm_query(Toronto,supermarket_node)"
   ]
  },
  {
   "cell_type": "code",
   "execution_count": 56,
   "metadata": {
    "collapsed": true
   },
   "outputs": [],
   "source": [
    "d = []\n",
    "for node in s_result.nodes:\n",
    "    d.append({'Name': node.tags.get(\"name\", \"\"),\n",
    "              'Brand': node.tags.get(\"brand\", \"\"),\n",
    "              'Hours': node.tags.get(\"opening_hours\", \"\"),\n",
    "              'Wheelchair': node.tags.get(\"wheelchair\", \"\"),\n",
    "              'Phone Number': node.tags.get(\"phone\", \"\"),\n",
    "              'Country': node.tags.get(\"addr:country\", \"\"),\n",
    "              'City': node.tags.get(\"addr:city\", \"\"),\n",
    "              'House_Number': node.tags.get(\"addr:housenumber\", \"\"),\n",
    "              'Street': node.tags.get(\"addr:street\", \"\"),\n",
    "              'Province': node.tags.get(\"addr:province\", \"\"),\n",
    "              'Postal_Code': node.tags.get(\"addr:postcode\", \"\"),\n",
    "              'Email': node.tags.get(\"email\", \"\"),\n",
    "              'Fax': node.tags.get(\"fax\", \"\"),\n",
    "              'Payment_Cash': node.tags.get(\"payment:cash\", \"\"), \n",
    "              'Payment_Credit_Card': node.tags.get(\"payment:credit_cards\", \"\"),\n",
    "              'Payment_Debit_Card': node.tags.get(\"payment:debit_cards\", \"\"),\n",
    "              'Website': node.tags.get(\"website\", \"\"),  \n",
    "              'Latitude': node.lat,\n",
    "              'Longitude': node.lon\n",
    "             })\n",
    "\n",
    "supermarkets = pd.DataFrame(d)"
   ]
  },
  {
   "cell_type": "markdown",
   "metadata": {},
   "source": [
    "## Pharmacies"
   ]
  },
  {
   "cell_type": "code",
   "execution_count": 57,
   "metadata": {},
   "outputs": [
    {
     "name": "stdout",
     "output_type": "stream",
     "text": [
      "Amount of Nodes found in 3600324211: 515\n"
     ]
    }
   ],
   "source": [
    "p_result = osm_query(Toronto,pharmacy_node)"
   ]
  },
  {
   "cell_type": "code",
   "execution_count": 58,
   "metadata": {},
   "outputs": [
    {
     "data": {
      "text/plain": [
       "{'addr:city': 'Toronto',\n",
       " 'addr:housenumber': '137',\n",
       " 'addr:street': 'Roncesvalles Avenue',\n",
       " 'alt_name': 'Welcome Guardian Drugstore',\n",
       " 'amenity': 'pharmacy',\n",
       " 'brand': 'Guardian',\n",
       " 'brand:wikidata': 'Q65553864',\n",
       " 'dispensing': 'yes',\n",
       " 'healthcare': 'pharmacy',\n",
       " 'name': 'Guardian',\n",
       " 'phone': '+1-416-533-2088',\n",
       " 'website': 'https://www.guardian-ida-pharmacies.ca/en/ontario/toronto/welcome-pharmacy-7024541'}"
      ]
     },
     "execution_count": 58,
     "metadata": {},
     "output_type": "execute_result"
    }
   ],
   "source": [
    "p_result.nodes[19].tags"
   ]
  },
  {
   "cell_type": "code",
   "execution_count": 59,
   "metadata": {
    "collapsed": true
   },
   "outputs": [],
   "source": [
    "e = []\n",
    "for node in p_result.nodes:\n",
    "    e.append({'Name': node.tags.get(\"name\", \"\"),\n",
    "              'Alt_Name': node.tags.get(\"alt_name\", \"\"),\n",
    "              'Brand': node.tags.get(\"brand\", \"\"),\n",
    "              'Hours': node.tags.get(\"opening_hours\", \"\"),\n",
    "              'Dispensing': node.tags.get(\"dispensing\", \"\"),\n",
    "              'Wheelchair': node.tags.get(\"wheelchair\", \"\"),\n",
    "              'Phone Number': node.tags.get(\"phone\", \"\"),\n",
    "              'Country': node.tags.get(\"addr:country\", \"\"),\n",
    "              'City': node.tags.get(\"addr:city\", \"\"),\n",
    "              'House_Number': node.tags.get(\"addr:housenumber\", \"\"),\n",
    "              'Street': node.tags.get(\"addr:street\", \"\"),\n",
    "              'Province': node.tags.get(\"addr:province\", \"\"),\n",
    "              'Postal_Code': node.tags.get(\"addr:postcode\", \"\"),\n",
    "              'Email': node.tags.get(\"email\", \"\"),\n",
    "              'Fax': node.tags.get(\"fax\", \"\"),\n",
    "              'Payment_Cash': node.tags.get(\"payment:cash\", \"\"), \n",
    "              'Payment_Credit_Card': node.tags.get(\"payment:credit_cards\", \"\"),\n",
    "              'Payment_Debit_Card': node.tags.get(\"payment:debit_cards\", \"\"),\n",
    "              'Website': node.tags.get(\"website\", \"\"),  \n",
    "              'Latitude': node.lat,\n",
    "              'Longitude': node.lon\n",
    "             })\n",
    "\n",
    "pharmacies = pd.DataFrame(e)"
   ]
  },
  {
   "cell_type": "markdown",
   "metadata": {},
   "source": [
    "### Gas Stations"
   ]
  },
  {
   "cell_type": "code",
   "execution_count": 60,
   "metadata": {},
   "outputs": [
    {
     "name": "stdout",
     "output_type": "stream",
     "text": [
      "Amount of Nodes found in 3600324211: 285\n"
     ]
    }
   ],
   "source": [
    "g_result = osm_query(Toronto,gas_node)"
   ]
  },
  {
   "cell_type": "code",
   "execution_count": 61,
   "metadata": {},
   "outputs": [
    {
     "data": {
      "text/plain": [
       "{'addr:city': 'Toronto',\n",
       " 'addr:housenumber': '1586',\n",
       " 'addr:street': 'Bathurst Street',\n",
       " 'amenity': 'fuel',\n",
       " 'brand': 'Shell',\n",
       " 'brand:wikidata': 'Q154950',\n",
       " 'brand:wikipedia': 'en:Royal Dutch Shell',\n",
       " 'name': 'Shell',\n",
       " 'phone': '+1-416-656-9970',\n",
       " 'self_service': 'yes'}"
      ]
     },
     "execution_count": 61,
     "metadata": {},
     "output_type": "execute_result"
    }
   ],
   "source": [
    "g_result.nodes[9].tags"
   ]
  },
  {
   "cell_type": "code",
   "execution_count": 62,
   "metadata": {
    "collapsed": true
   },
   "outputs": [],
   "source": [
    "e = []\n",
    "for node in g_result.nodes:\n",
    "    e.append({'Name': node.tags.get(\"name\", \"\"),\n",
    "              'Brand': node.tags.get(\"brand\", \"\"),\n",
    "              'Operator': node.tags.get(\"operator\", \"\"),\n",
    "              'Hours': node.tags.get(\"opening_hours\", \"\"),\n",
    "              'Self_Service': node.tags.get(\"self_service\", \"\"),\n",
    "              'Full_Service': node.tags.get(\"full_service\", \"\"),\n",
    "              'Capacity': node.tags.get(\"capacity\", \"\"),\n",
    "              'Phone Number': node.tags.get(\"phone\", \"\"),\n",
    "              'Country': node.tags.get(\"addr:country\", \"\"),\n",
    "              'City': node.tags.get(\"addr:city\", \"\"),\n",
    "              'House_Number': node.tags.get(\"addr:housenumber\", \"\"),\n",
    "              'Street': node.tags.get(\"addr:street\", \"\"),\n",
    "              'Province': node.tags.get(\"addr:province\", \"\"),\n",
    "              'Postal_Code': node.tags.get(\"addr:postcode\", \"\"),\n",
    "              'Email': node.tags.get(\"email\", \"\"),\n",
    "              'Car_Wash': node.tags.get(\"car_wash\", \"\"),\n",
    "              'Fuel_Diesel': node.tags.get(\"fuel:diesel\", \"\"), \n",
    "              'Fuel_Octane_91': node.tags.get(\"fuel:octane_91\", \"\"),\n",
    "              'Fuel_Octane_95': node.tags.get(\"fuel:octane_95\", \"\"),\n",
    "              'Fuel_Octane_98': node.tags.get(\"fuel:octane_98\", \"\"),\n",
    "              'Payment_Cash': node.tags.get(\"payment:cash\", \"\"),\n",
    "              'Website': node.tags.get(\"website\", \"\"),  \n",
    "              'Latitude': node.lat,\n",
    "              'Longitude': node.lon\n",
    "             })\n",
    "\n",
    "fuel_stations = pd.DataFrame(e)"
   ]
  },
  {
   "cell_type": "markdown",
   "metadata": {},
   "source": [
    "### Bank"
   ]
  },
  {
   "cell_type": "code",
   "execution_count": 63,
   "metadata": {},
   "outputs": [
    {
     "name": "stdout",
     "output_type": "stream",
     "text": [
      "Amount of Nodes found in 3600324211: 522\n"
     ]
    }
   ],
   "source": [
    "bank_result = osm_query(Toronto,bank_node)"
   ]
  },
  {
   "cell_type": "code",
   "execution_count": 64,
   "metadata": {},
   "outputs": [
    {
     "data": {
      "text/plain": [
       "{'addr:housenumber': '6464',\n",
       " 'addr:street': 'Yonge Street',\n",
       " 'amenity': 'bank',\n",
       " 'brand': 'Scotiabank',\n",
       " 'brand:wikidata': 'Q451476',\n",
       " 'brand:wikipedia': 'en:Scotiabank',\n",
       " 'level': '0',\n",
       " 'name': 'Scotiabank'}"
      ]
     },
     "execution_count": 64,
     "metadata": {},
     "output_type": "execute_result"
    }
   ],
   "source": [
    "bank_result.nodes[500].tags"
   ]
  },
  {
   "cell_type": "code",
   "execution_count": 65,
   "metadata": {
    "collapsed": true
   },
   "outputs": [],
   "source": [
    "e = []\n",
    "for node in bank_result.nodes:\n",
    "    e.append({'Name': node.tags.get(\"name\", \"\"),\n",
    "              'Brand': node.tags.get(\"brand\", \"\"),\n",
    "              'Operator': node.tags.get(\"operator\", \"\"),\n",
    "              'Hours': node.tags.get(\"opening_hours\", \"\"),\n",
    "              'Wheelchair': node.tags.get(\"wheelchair\", \"\"),\n",
    "              'Phone Number': node.tags.get(\"phone\", \"\"),\n",
    "              'Country': node.tags.get(\"addr:country\", \"\"),\n",
    "              'City': node.tags.get(\"addr:city\", \"\"),\n",
    "              'House_Number': node.tags.get(\"addr:housenumber\", \"\"),\n",
    "              'Street': node.tags.get(\"addr:street\", \"\"),\n",
    "              'Province': node.tags.get(\"addr:province\", \"\"),\n",
    "              'Postal_Code': node.tags.get(\"addr:postcode\", \"\"),\n",
    "              'Email': node.tags.get(\"email\", \"\"),\n",
    "              'Latitude': node.lat,\n",
    "              'Longitude': node.lon\n",
    "             })\n",
    "\n",
    "banks = pd.DataFrame(e)"
   ]
  },
  {
   "cell_type": "markdown",
   "metadata": {},
   "source": [
    "### Convenience Store"
   ]
  },
  {
   "cell_type": "code",
   "execution_count": 66,
   "metadata": {},
   "outputs": [
    {
     "name": "stdout",
     "output_type": "stream",
     "text": [
      "Amount of Nodes found in 3600324211: 999\n"
     ]
    }
   ],
   "source": [
    "conv_result = osm_query(Toronto,convenience_node)"
   ]
  },
  {
   "cell_type": "code",
   "execution_count": 67,
   "metadata": {},
   "outputs": [
    {
     "data": {
      "text/plain": [
       "{'created_by': 'JOSM',\n",
       " 'name': \"Joe's Convenience\",\n",
       " 'shop': 'convenience',\n",
       " 'wheelchair': 'limited'}"
      ]
     },
     "execution_count": 67,
     "metadata": {},
     "output_type": "execute_result"
    }
   ],
   "source": [
    "conv_result.nodes[3].tags"
   ]
  },
  {
   "cell_type": "code",
   "execution_count": 68,
   "metadata": {
    "collapsed": true
   },
   "outputs": [],
   "source": [
    "d = []\n",
    "for node in conv_result.nodes:\n",
    "    d.append({'Name': node.tags.get(\"name\", \"\"),\n",
    "              'Brand': node.tags.get(\"brand\", \"\"),\n",
    "              'Hours': node.tags.get(\"opening_hours\", \"\"),\n",
    "              'Wheelchair': node.tags.get(\"wheelchair\", \"\"),\n",
    "              'Phone Number': node.tags.get(\"phone\", \"\"),\n",
    "              'Country': node.tags.get(\"addr:country\", \"\"),\n",
    "              'City': node.tags.get(\"addr:city\", \"\"),\n",
    "              'House_Number': node.tags.get(\"addr:housenumber\", \"\"),\n",
    "              'Street': node.tags.get(\"addr:street\", \"\"),\n",
    "              'Province': node.tags.get(\"addr:province\", \"\"),\n",
    "              'Postal_Code': node.tags.get(\"addr:postcode\", \"\"),\n",
    "              'Email': node.tags.get(\"email\", \"\"),\n",
    "              'Website': node.tags.get(\"website\", \"\"),  \n",
    "              'Latitude': node.lat,\n",
    "              'Longitude': node.lon\n",
    "             })\n",
    "\n",
    "convenience_stores = pd.DataFrame(d)"
   ]
  },
  {
   "cell_type": "markdown",
   "metadata": {},
   "source": [
    "### Hardware Stores"
   ]
  },
  {
   "cell_type": "code",
   "execution_count": 69,
   "metadata": {},
   "outputs": [
    {
     "name": "stdout",
     "output_type": "stream",
     "text": [
      "Amount of Nodes found in 3600324211: 49\n"
     ]
    }
   ],
   "source": [
    "hardware_result = osm_query(Toronto,hardware_node)"
   ]
  },
  {
   "cell_type": "code",
   "execution_count": 70,
   "metadata": {},
   "outputs": [
    {
     "data": {
      "text/plain": [
       "{'name': 'Electrolux', 'shop': 'hardware'}"
      ]
     },
     "execution_count": 70,
     "metadata": {},
     "output_type": "execute_result"
    }
   ],
   "source": [
    "hardware_result.nodes[3].tags"
   ]
  },
  {
   "cell_type": "code",
   "execution_count": 71,
   "metadata": {
    "collapsed": true
   },
   "outputs": [],
   "source": [
    "d = []\n",
    "for node in hardware_result.nodes:\n",
    "    d.append({'Name': node.tags.get(\"name\", \"\"),\n",
    "              'Brand': node.tags.get(\"brand\", \"\"),\n",
    "              'Operator': node.tags.get(\"operator\", \"\"),\n",
    "              'Hours': node.tags.get(\"opening_hours\", \"\"),\n",
    "              'Wheelchair': node.tags.get(\"wheelchair\", \"\"),\n",
    "              'Phone Number': node.tags.get(\"phone\", \"\"),\n",
    "              'Country': node.tags.get(\"addr:country\", \"\"),\n",
    "              'City': node.tags.get(\"addr:city\", \"\"),\n",
    "              'House_Number': node.tags.get(\"addr:housenumber\", \"\"),\n",
    "              'Street': node.tags.get(\"addr:street\", \"\"),\n",
    "              'Province': node.tags.get(\"addr:province\", \"\"),\n",
    "              'Postal_Code': node.tags.get(\"addr:postcode\", \"\"),\n",
    "              'Email': node.tags.get(\"email\", \"\"),\n",
    "              'Website': node.tags.get(\"website\", \"\"),  \n",
    "              'Latitude': node.lat,\n",
    "              'Longitude': node.lon\n",
    "             })\n",
    "\n",
    "hardware_stores = pd.DataFrame(d)"
   ]
  },
  {
   "cell_type": "markdown",
   "metadata": {},
   "source": [
    "## Output"
   ]
  },
  {
   "cell_type": "code",
   "execution_count": 80,
   "metadata": {},
   "outputs": [],
   "source": [
    "# geometry\n",
    "supermarkets['geometry'] = supermarkets.apply(lambda x: Point((float(x.Longitude), float(x.Latitude))), axis=1)\n",
    "pharmacies['geometry'] = pharmacies.apply(lambda x: Point((float(x.Longitude), float(x.Latitude))), axis=1)\n",
    "fuel_stations['geometry'] = fuel_stations.apply(lambda x: Point((float(x.Longitude), float(x.Latitude))), axis=1)\n",
    "banks['geometry'] = banks.apply(lambda x: Point((float(x.Longitude), float(x.Latitude))), axis=1)\n",
    "convenience_stores['geometry'] = convenience_stores.apply(lambda x: Point((float(x.Longitude), float(x.Latitude))), axis=1)\n",
    "hardware_stores['geometry'] = hardware_stores.apply(lambda x: Point((float(x.Longitude), float(x.Latitude))), axis=1)"
   ]
  },
  {
   "cell_type": "code",
   "execution_count": 81,
   "metadata": {
    "collapsed": true
   },
   "outputs": [],
   "source": [
    "# Csvs\n",
    "supermarkets.to_csv('D:/Dropbox/Data/Toronto-locations/supermarkets.csv',index=False)\n",
    "pharmacies.to_csv('D:/Dropbox/Data/Toronto-locations/pharmacies.csv',index=False)\n",
    "fuel_stations.to_csv('D:/Dropbox/Data/Toronto-locations/fuel_stations.csv',index=False)\n",
    "banks.to_csv('D:/Dropbox/Data/Toronto-locations/banks.csv',index=False)\n",
    "convenience_stores.to_csv('D:/Dropbox/Data/Toronto-locations/convenience_stores.csv',index=False)\n",
    "hardware_stores.to_csv('D:/Dropbox/Data/Toronto-locations/hardware_stores.csv',index=False)"
   ]
  },
  {
   "cell_type": "code",
   "execution_count": null,
   "metadata": {
    "collapsed": true
   },
   "outputs": [],
   "source": [
    "# Export shapefiles\n",
    "supermarkets = supermarkets.GeoDataFrame(df, geometry='geometry')\n",
    "supermarkets.to_file('supermarkets.shp', driver='ESRI Shapefile')"
   ]
  }
 ],
 "metadata": {
  "kernelspec": {
   "display_name": "Python 3",
   "language": "python",
   "name": "python3"
  },
  "language_info": {
   "codemirror_mode": {
    "name": "ipython",
    "version": 3
   },
   "file_extension": ".py",
   "mimetype": "text/x-python",
   "name": "python",
   "nbconvert_exporter": "python",
   "pygments_lexer": "ipython3",
   "version": "3.6.1"
  }
 },
 "nbformat": 4,
 "nbformat_minor": 2
}
