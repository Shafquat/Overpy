{
 "cells": [
  {
   "cell_type": "code",
   "execution_count": 26,
   "metadata": {
    "collapsed": true
   },
   "outputs": [],
   "source": [
    "import pandas as pd\n",
    "import overpy\n",
    "api = overpy.Overpass()\n",
    "\n",
    "from shapely.geometry import Point\n",
    "import geopandas"
   ]
  },
  {
   "cell_type": "markdown",
   "metadata": {},
   "source": [
    "## Large Chains\n",
    "* Shoppers Drug Mart\n",
    "* Rexall\n",
    "* Guardian/IDA\n",
    "* Esso\n",
    "* Shell\n",
    "* Petro Canada\n",
    "* Loblaws\n",
    "* No Frills\n",
    "* Walmart\n",
    "* Costco\n",
    "* [Rabba](https://rabba.com/locations)\n",
    "* Freshco\n",
    "* Sobeys\n",
    "* CIBC\n",
    "* TD\n",
    "* Scotiabank\n",
    "* RBC\n",
    "* BMO\n"
   ]
  },
  {
   "cell_type": "code",
   "execution_count": 27,
   "metadata": {
    "collapsed": true
   },
   "outputs": [],
   "source": [
    "# Declaring nodes\n",
    "\n",
    "# https://wiki.openstreetmap.org/wiki/Tag:shop%3Dsupermarket\n",
    "supermarket_node = \"'shop'='supermarket'\"\n",
    "# https://wiki.openstreetmap.org/wiki/Tag:amenity%3Dpharmacy\n",
    "pharmacy_node = \"'amenity'='pharmacy'\"\n",
    "# https://wiki.openstreetmap.org/wiki/Tag:amenity%3Dfuel\n",
    "gas_node = \"'amenity'='fuel'\"\n",
    "# https://wiki.openstreetmap.org/wiki/Tag:amenity%3Dbank\n",
    "bank_node = \"'amenity'='bank'\"\n",
    "# https://wiki.openstreetmap.org/wiki/Tag:shop%3Dconvenience\n",
    "convenience_node = \"'shop'='convenience'\"\n",
    "# https://wiki.openstreetmap.org/wiki/Tag:shop%3Dhardware\n",
    "hardware_node = \"'shop'='hardware'\"\n",
    "\n",
    "# Area ID\n",
    "Toronto = \"3600324211\""
   ]
  },
  {
   "cell_type": "code",
   "execution_count": 28,
   "metadata": {
    "collapsed": true
   },
   "outputs": [],
   "source": [
    "# Defining a query function to get the Overpass API data\n",
    "def osm_query(Area,node):\n",
    "    result = api.query(\"\"\"\n",
    "        [out:json];\n",
    "        area(\"\"\"+Area+\"\"\");\n",
    "        (node[\"\"\"+node+\"\"\"](area);\n",
    "        );\n",
    "        out center;\n",
    "        \"\"\")\n",
    "    print(\"Amount of Nodes found in \" + Area+ \":\", len(result.nodes))\n",
    "    return result"
   ]
  },
  {
   "cell_type": "markdown",
   "metadata": {},
   "source": [
    "## Grocery Stores"
   ]
  },
  {
   "cell_type": "code",
   "execution_count": 29,
   "metadata": {},
   "outputs": [
    {
     "name": "stdout",
     "output_type": "stream",
     "text": [
      "Amount of Nodes found in 3600324211: 276\n"
     ]
    }
   ],
   "source": [
    "s_result = osm_query(Toronto,supermarket_node)"
   ]
  },
  {
   "cell_type": "code",
   "execution_count": 30,
   "metadata": {
    "collapsed": true
   },
   "outputs": [],
   "source": [
    "d = []\n",
    "for node in s_result.nodes:\n",
    "    d.append({'Name': node.tags.get(\"name\", \"\"),\n",
    "              'Brand': node.tags.get(\"brand\", \"\"),\n",
    "              'Hours': node.tags.get(\"opening_hours\", \"\"),\n",
    "              'Wheelchair': node.tags.get(\"wheelchair\", \"\"),\n",
    "              'Phone Number': node.tags.get(\"phone\", \"\"),\n",
    "              'Country': node.tags.get(\"addr:country\", \"\"),\n",
    "              'City': node.tags.get(\"addr:city\", \"\"),\n",
    "              'House_Number': node.tags.get(\"addr:housenumber\", \"\"),\n",
    "              'Street': node.tags.get(\"addr:street\", \"\"),\n",
    "              'Province': node.tags.get(\"addr:province\", \"\"),\n",
    "              'Postal_Code': node.tags.get(\"addr:postcode\", \"\"),\n",
    "              'Email': node.tags.get(\"email\", \"\"),\n",
    "              'Fax': node.tags.get(\"fax\", \"\"),\n",
    "              'Payment_Cash': node.tags.get(\"payment:cash\", \"\"), \n",
    "              'Payment_Credit_Card': node.tags.get(\"payment:credit_cards\", \"\"),\n",
    "              'Payment_Debit_Card': node.tags.get(\"payment:debit_cards\", \"\"),\n",
    "              'Website': node.tags.get(\"website\", \"\"),  \n",
    "              'Latitude': node.lat,\n",
    "              'Longitude': node.lon\n",
    "             })\n",
    "\n",
    "supermarkets = pd.DataFrame(d)"
   ]
  },
  {
   "cell_type": "markdown",
   "metadata": {},
   "source": [
    "## Pharmacies"
   ]
  },
  {
   "cell_type": "code",
   "execution_count": 31,
   "metadata": {},
   "outputs": [
    {
     "name": "stdout",
     "output_type": "stream",
     "text": [
      "Amount of Nodes found in 3600324211: 515\n"
     ]
    }
   ],
   "source": [
    "p_result = osm_query(Toronto,pharmacy_node)"
   ]
  },
  {
   "cell_type": "code",
   "execution_count": 32,
   "metadata": {},
   "outputs": [
    {
     "data": {
      "text/plain": [
       "<overpy.Node id=251231340 lat=43.6433233 lon=-79.4477035>"
      ]
     },
     "execution_count": 32,
     "metadata": {},
     "output_type": "execute_result"
    }
   ],
   "source": [
    "p_result.nodes[19]"
   ]
  },
  {
   "cell_type": "code",
   "execution_count": 33,
   "metadata": {
    "collapsed": true
   },
   "outputs": [],
   "source": [
    "e = []\n",
    "for node in p_result.nodes:\n",
    "    e.append({'ID': node.id,\n",
    "              'Name': node.tags.get(\"name\", \"\"),\n",
    "              'Alt_Name': node.tags.get(\"alt_name\", \"\"),\n",
    "              'Brand': node.tags.get(\"brand\", \"\"),\n",
    "              'Hours': node.tags.get(\"opening_hours\", \"\"),\n",
    "              'Dispensing': node.tags.get(\"dispensing\", \"\"),\n",
    "              'Wheelchair': node.tags.get(\"wheelchair\", \"\"),\n",
    "              'Phone Number': node.tags.get(\"phone\", \"\"),\n",
    "              'Country': node.tags.get(\"addr:country\", \"\"),\n",
    "              'City': node.tags.get(\"addr:city\", \"\"),\n",
    "              'House_Number': node.tags.get(\"addr:housenumber\", \"\"),\n",
    "              'Street': node.tags.get(\"addr:street\", \"\"),\n",
    "              'Province': node.tags.get(\"addr:province\", \"\"),\n",
    "              'Postal_Code': node.tags.get(\"addr:postcode\", \"\"),\n",
    "              'Email': node.tags.get(\"email\", \"\"),\n",
    "              'Fax': node.tags.get(\"fax\", \"\"),\n",
    "              'Payment_Cash': node.tags.get(\"payment:cash\", \"\"), \n",
    "              'Payment_Credit_Card': node.tags.get(\"payment:credit_cards\", \"\"),\n",
    "              'Payment_Debit_Card': node.tags.get(\"payment:debit_cards\", \"\"),\n",
    "              'Website': node.tags.get(\"website\", \"\"),  \n",
    "              'Latitude': node.lat,\n",
    "              'Longitude': node.lon\n",
    "             })\n",
    "\n",
    "pharmacies = pd.DataFrame(e)"
   ]
  },
  {
   "cell_type": "markdown",
   "metadata": {},
   "source": [
    "### Gas Stations"
   ]
  },
  {
   "cell_type": "code",
   "execution_count": 34,
   "metadata": {},
   "outputs": [
    {
     "name": "stdout",
     "output_type": "stream",
     "text": [
      "Amount of Nodes found in 3600324211: 285\n"
     ]
    }
   ],
   "source": [
    "g_result = osm_query(Toronto,gas_node)"
   ]
  },
  {
   "cell_type": "code",
   "execution_count": 35,
   "metadata": {},
   "outputs": [
    {
     "data": {
      "text/plain": [
       "{'addr:city': 'Toronto',\n",
       " 'addr:housenumber': '1586',\n",
       " 'addr:street': 'Bathurst Street',\n",
       " 'amenity': 'fuel',\n",
       " 'brand': 'Shell',\n",
       " 'brand:wikidata': 'Q154950',\n",
       " 'brand:wikipedia': 'en:Royal Dutch Shell',\n",
       " 'name': 'Shell',\n",
       " 'phone': '+1-416-656-9970',\n",
       " 'self_service': 'yes'}"
      ]
     },
     "execution_count": 35,
     "metadata": {},
     "output_type": "execute_result"
    }
   ],
   "source": [
    "g_result.nodes[9].tags"
   ]
  },
  {
   "cell_type": "code",
   "execution_count": 36,
   "metadata": {
    "collapsed": true
   },
   "outputs": [],
   "source": [
    "e = []\n",
    "for node in g_result.nodes:\n",
    "    e.append({'Name': node.tags.get(\"name\", \"\"),\n",
    "              'ID': node.id,\n",
    "              'Brand': node.tags.get(\"brand\", \"\"),\n",
    "              'Operator': node.tags.get(\"operator\", \"\"),\n",
    "              'Hours': node.tags.get(\"opening_hours\", \"\"),\n",
    "              'Self_Service': node.tags.get(\"self_service\", \"\"),\n",
    "              'Full_Service': node.tags.get(\"full_service\", \"\"),\n",
    "              'Capacity': node.tags.get(\"capacity\", \"\"),\n",
    "              'Phone Number': node.tags.get(\"phone\", \"\"),\n",
    "              'Country': node.tags.get(\"addr:country\", \"\"),\n",
    "              'City': node.tags.get(\"addr:city\", \"\"),\n",
    "              'House_Number': node.tags.get(\"addr:housenumber\", \"\"),\n",
    "              'Street': node.tags.get(\"addr:street\", \"\"),\n",
    "              'Province': node.tags.get(\"addr:province\", \"\"),\n",
    "              'Postal_Code': node.tags.get(\"addr:postcode\", \"\"),\n",
    "              'Email': node.tags.get(\"email\", \"\"),\n",
    "              'Car_Wash': node.tags.get(\"car_wash\", \"\"),\n",
    "              'Fuel_Diesel': node.tags.get(\"fuel:diesel\", \"\"), \n",
    "              'Fuel_Octane_91': node.tags.get(\"fuel:octane_91\", \"\"),\n",
    "              'Fuel_Octane_95': node.tags.get(\"fuel:octane_95\", \"\"),\n",
    "              'Fuel_Octane_98': node.tags.get(\"fuel:octane_98\", \"\"),\n",
    "              'Payment_Cash': node.tags.get(\"payment:cash\", \"\"),\n",
    "              'Website': node.tags.get(\"website\", \"\"),  \n",
    "              'Latitude': node.lat,\n",
    "              'Longitude': node.lon\n",
    "             })\n",
    "\n",
    "fuel_stations = pd.DataFrame(e)"
   ]
  },
  {
   "cell_type": "markdown",
   "metadata": {},
   "source": [
    "### Bank"
   ]
  },
  {
   "cell_type": "code",
   "execution_count": 37,
   "metadata": {},
   "outputs": [
    {
     "name": "stdout",
     "output_type": "stream",
     "text": [
      "Amount of Nodes found in 3600324211: 522\n"
     ]
    }
   ],
   "source": [
    "bank_result = osm_query(Toronto,bank_node)"
   ]
  },
  {
   "cell_type": "code",
   "execution_count": 38,
   "metadata": {},
   "outputs": [
    {
     "data": {
      "text/plain": [
       "{'addr:housenumber': '6464',\n",
       " 'addr:street': 'Yonge Street',\n",
       " 'amenity': 'bank',\n",
       " 'brand': 'Scotiabank',\n",
       " 'brand:wikidata': 'Q451476',\n",
       " 'brand:wikipedia': 'en:Scotiabank',\n",
       " 'level': '0',\n",
       " 'name': 'Scotiabank'}"
      ]
     },
     "execution_count": 38,
     "metadata": {},
     "output_type": "execute_result"
    }
   ],
   "source": [
    "bank_result.nodes[500].tags"
   ]
  },
  {
   "cell_type": "code",
   "execution_count": 39,
   "metadata": {
    "collapsed": true
   },
   "outputs": [],
   "source": [
    "e = []\n",
    "for node in bank_result.nodes:\n",
    "    e.append({'Name': node.tags.get(\"name\", \"\"),\n",
    "              'ID': node.id,\n",
    "              'Brand': node.tags.get(\"brand\", \"\"),\n",
    "              'Operator': node.tags.get(\"operator\", \"\"),\n",
    "              'Hours': node.tags.get(\"opening_hours\", \"\"),\n",
    "              'Wheelchair': node.tags.get(\"wheelchair\", \"\"),\n",
    "              'Phone Number': node.tags.get(\"phone\", \"\"),\n",
    "              'Country': node.tags.get(\"addr:country\", \"\"),\n",
    "              'City': node.tags.get(\"addr:city\", \"\"),\n",
    "              'House_Number': node.tags.get(\"addr:housenumber\", \"\"),\n",
    "              'Street': node.tags.get(\"addr:street\", \"\"),\n",
    "              'Province': node.tags.get(\"addr:province\", \"\"),\n",
    "              'Postal_Code': node.tags.get(\"addr:postcode\", \"\"),\n",
    "              'Email': node.tags.get(\"email\", \"\"),\n",
    "              'Latitude': node.lat,\n",
    "              'Longitude': node.lon\n",
    "             })\n",
    "\n",
    "banks = pd.DataFrame(e)"
   ]
  },
  {
   "cell_type": "markdown",
   "metadata": {},
   "source": [
    "### Convenience Store"
   ]
  },
  {
   "cell_type": "code",
   "execution_count": 40,
   "metadata": {},
   "outputs": [
    {
     "name": "stdout",
     "output_type": "stream",
     "text": [
      "Amount of Nodes found in 3600324211: 999\n"
     ]
    }
   ],
   "source": [
    "conv_result = osm_query(Toronto,convenience_node)"
   ]
  },
  {
   "cell_type": "code",
   "execution_count": 41,
   "metadata": {},
   "outputs": [
    {
     "data": {
      "text/plain": [
       "{'created_by': 'JOSM',\n",
       " 'name': \"Joe's Convenience\",\n",
       " 'shop': 'convenience',\n",
       " 'wheelchair': 'limited'}"
      ]
     },
     "execution_count": 41,
     "metadata": {},
     "output_type": "execute_result"
    }
   ],
   "source": [
    "conv_result.nodes[3].tags"
   ]
  },
  {
   "cell_type": "code",
   "execution_count": 42,
   "metadata": {
    "collapsed": true
   },
   "outputs": [],
   "source": [
    "d = []\n",
    "for node in conv_result.nodes:\n",
    "    d.append({'Name': node.tags.get(\"name\", \"\"),\n",
    "              'ID': node.id,\n",
    "              'Brand': node.tags.get(\"brand\", \"\"),\n",
    "              'Hours': node.tags.get(\"opening_hours\", \"\"),\n",
    "              'Wheelchair': node.tags.get(\"wheelchair\", \"\"),\n",
    "              'Phone Number': node.tags.get(\"phone\", \"\"),\n",
    "              'Country': node.tags.get(\"addr:country\", \"\"),\n",
    "              'City': node.tags.get(\"addr:city\", \"\"),\n",
    "              'House_Number': node.tags.get(\"addr:housenumber\", \"\"),\n",
    "              'Street': node.tags.get(\"addr:street\", \"\"),\n",
    "              'Province': node.tags.get(\"addr:province\", \"\"),\n",
    "              'Postal_Code': node.tags.get(\"addr:postcode\", \"\"),\n",
    "              'Email': node.tags.get(\"email\", \"\"),\n",
    "              'Website': node.tags.get(\"website\", \"\"),  \n",
    "              'Latitude': node.lat,\n",
    "              'Longitude': node.lon\n",
    "             })\n",
    "\n",
    "convenience_stores = pd.DataFrame(d)"
   ]
  },
  {
   "cell_type": "markdown",
   "metadata": {},
   "source": [
    "### Hardware Stores"
   ]
  },
  {
   "cell_type": "code",
   "execution_count": 43,
   "metadata": {},
   "outputs": [
    {
     "name": "stdout",
     "output_type": "stream",
     "text": [
      "Amount of Nodes found in 3600324211: 49\n"
     ]
    }
   ],
   "source": [
    "hardware_result = osm_query(Toronto,hardware_node)"
   ]
  },
  {
   "cell_type": "code",
   "execution_count": 44,
   "metadata": {},
   "outputs": [
    {
     "data": {
      "text/plain": [
       "{'name': 'Electrolux', 'shop': 'hardware'}"
      ]
     },
     "execution_count": 44,
     "metadata": {},
     "output_type": "execute_result"
    }
   ],
   "source": [
    "hardware_result.nodes[3].tags"
   ]
  },
  {
   "cell_type": "code",
   "execution_count": 45,
   "metadata": {
    "collapsed": true
   },
   "outputs": [],
   "source": [
    "d = []\n",
    "for node in hardware_result.nodes:\n",
    "    d.append({'Name': node.tags.get(\"name\", \"\"),\n",
    "              'ID': node.id,\n",
    "              'Brand': node.tags.get(\"brand\", \"\"),\n",
    "              'Operator': node.tags.get(\"operator\", \"\"),\n",
    "              'Hours': node.tags.get(\"opening_hours\", \"\"),\n",
    "              'Wheelchair': node.tags.get(\"wheelchair\", \"\"),\n",
    "              'Phone Number': node.tags.get(\"phone\", \"\"),\n",
    "              'Country': node.tags.get(\"addr:country\", \"\"),\n",
    "              'City': node.tags.get(\"addr:city\", \"\"),\n",
    "              'House_Number': node.tags.get(\"addr:housenumber\", \"\"),\n",
    "              'Street': node.tags.get(\"addr:street\", \"\"),\n",
    "              'Province': node.tags.get(\"addr:province\", \"\"),\n",
    "              'Postal_Code': node.tags.get(\"addr:postcode\", \"\"),\n",
    "              'Email': node.tags.get(\"email\", \"\"),\n",
    "              'Website': node.tags.get(\"website\", \"\"),  \n",
    "              'Latitude': node.lat,\n",
    "              'Longitude': node.lon\n",
    "             })\n",
    "\n",
    "hardware_stores = pd.DataFrame(d)"
   ]
  },
  {
   "cell_type": "markdown",
   "metadata": {},
   "source": [
    "## Output"
   ]
  },
  {
   "cell_type": "code",
   "execution_count": 46,
   "metadata": {
    "collapsed": true
   },
   "outputs": [],
   "source": [
    "# geometry\n",
    "supermarkets['geometry'] = supermarkets.apply(lambda x: Point((float(x.Longitude), float(x.Latitude))), axis=1)\n",
    "pharmacies['geometry'] = pharmacies.apply(lambda x: Point((float(x.Longitude), float(x.Latitude))), axis=1)\n",
    "fuel_stations['geometry'] = fuel_stations.apply(lambda x: Point((float(x.Longitude), float(x.Latitude))), axis=1)\n",
    "banks['geometry'] = banks.apply(lambda x: Point((float(x.Longitude), float(x.Latitude))), axis=1)\n",
    "convenience_stores['geometry'] = convenience_stores.apply(lambda x: Point((float(x.Longitude), float(x.Latitude))), axis=1)\n",
    "hardware_stores['geometry'] = hardware_stores.apply(lambda x: Point((float(x.Longitude), float(x.Latitude))), axis=1)"
   ]
  },
  {
   "cell_type": "code",
   "execution_count": 47,
   "metadata": {
    "collapsed": true
   },
   "outputs": [],
   "source": [
    "# Csvs\n",
    "supermarkets.to_csv('D:/Dropbox/Data/Toronto-locations/supermarkets.csv',index=False)\n",
    "pharmacies.to_csv('D:/Dropbox/Data/Toronto-locations/pharmacies.csv',index=False)\n",
    "fuel_stations.to_csv('D:/Dropbox/Data/Toronto-locations/fuel_stations.csv',index=False)\n",
    "banks.to_csv('D:/Dropbox/Data/Toronto-locations/banks.csv',index=False)\n",
    "convenience_stores.to_csv('D:/Dropbox/Data/Toronto-locations/convenience_stores.csv',index=False)\n",
    "hardware_stores.to_csv('D:/Dropbox/Data/Toronto-locations/hardware_stores.csv',index=False)"
   ]
  },
  {
   "cell_type": "code",
   "execution_count": 48,
   "metadata": {
    "collapsed": true
   },
   "outputs": [],
   "source": [
    "# create geopanda df\n",
    "supermarkets = geopandas.GeoDataFrame(supermarkets, geometry='geometry')\n",
    "pharmacies = geopandas.GeoDataFrame(pharmacies, geometry='geometry')\n",
    "fuel_stations = geopandas.GeoDataFrame(fuel_stations, geometry='geometry')\n",
    "banks = geopandas.GeoDataFrame(banks, geometry='geometry')\n",
    "convenience_stores = geopandas.GeoDataFrame(convenience_stores, geometry='geometry')\n",
    "hardware_stores = geopandas.GeoDataFrame(hardware_stores, geometry='geometry')"
   ]
  },
  {
   "cell_type": "code",
   "execution_count": 49,
   "metadata": {},
   "outputs": [
    {
     "data": {
      "text/plain": [
       "0             POINT (-79.3943053 43.6447004)\n",
       "1             POINT (-79.3949107 43.6442632)\n",
       "2             POINT (-79.4992745 43.7608533)\n",
       "3             POINT (-79.4032127 43.6759496)\n",
       "4             POINT (-79.3875424 43.6730828)\n",
       "5             POINT (-79.5208324 43.6957852)\n",
       "6              POINT (-79.4393676 43.668655)\n",
       "7             POINT (-79.4440436 43.6675387)\n",
       "8             POINT (-79.3901991 43.6793882)\n",
       "9             POINT (-79.4200654 43.6869409)\n",
       "10            POINT (-79.4112643 43.6511228)\n",
       "11            POINT (-79.3861777 43.6986546)\n",
       "12              POINT (-79.467225 43.681728)\n",
       "13             POINT (-79.3769278 43.656792)\n",
       "14            POINT (-79.2367453 43.7900818)\n",
       "15     POINT (-79.23793120000001 43.7936463)\n",
       "16     POINT (-79.23966350000001 43.7939789)\n",
       "17      POINT (-79.45971950000001 43.654975)\n",
       "18            POINT (-79.3291251 43.6975851)\n",
       "19            POINT (-79.3298547 43.6974267)\n",
       "20     POINT (-79.26873139999999 43.7324115)\n",
       "21            POINT (-79.2709512 43.7319401)\n",
       "22            POINT (-79.2968893 43.7263333)\n",
       "23     POINT (-79.31418410000001 43.7257254)\n",
       "24            POINT (-79.3776458 43.7117461)\n",
       "25            POINT (-79.3048256 43.7196162)\n",
       "26     POINT (-79.27563480000001 43.7497505)\n",
       "27     POINT (-79.37629029999999 43.7696842)\n",
       "28            POINT (-79.2878587 43.6910397)\n",
       "29            POINT (-79.2871128 43.6870538)\n",
       "                       ...                  \n",
       "255           POINT (-79.5332765 43.7082497)\n",
       "256           POINT (-79.4415218 43.7024166)\n",
       "257           POINT (-79.2263299 43.7308724)\n",
       "258           POINT (-79.4452081 43.7921609)\n",
       "259           POINT (-79.5689024 43.7155525)\n",
       "260           POINT (-79.5677116 43.7130211)\n",
       "261           POINT (-79.5668273 43.7131277)\n",
       "262           POINT (-79.5653137 43.7124848)\n",
       "263            POINT (-79.549347 43.6485005)\n",
       "264           POINT (-79.5418356 43.7525834)\n",
       "265           POINT (-79.2525466 43.7361609)\n",
       "266           POINT (-79.5581564 43.7675867)\n",
       "267    POINT (-79.54774500000001 43.7696867)\n",
       "268           POINT (-79.5399348 43.7712755)\n",
       "269    POINT (-79.50273749999999 43.6998603)\n",
       "270    POINT (-79.23733609999999 43.7892498)\n",
       "271           POINT (-79.5244775 43.7372248)\n",
       "272    POINT (-79.19032869999999 43.7663425)\n",
       "273             POINT (-79.482585 43.686241)\n",
       "274            POINT (-79.246332 43.8240518)\n",
       "275           POINT (-79.4645244 43.6663505)\n",
       "276           POINT (-79.5824946 43.7134022)\n",
       "277           POINT (-79.4899786 43.7571004)\n",
       "278           POINT (-79.4385324 43.6499581)\n",
       "279    POINT (-79.26595090000001 43.7025817)\n",
       "280           POINT (-79.5694369 43.7558516)\n",
       "281           POINT (-79.5391515 43.6231375)\n",
       "282           POINT (-79.2306174 43.7463247)\n",
       "283           POINT (-79.3406291 43.6608157)\n",
       "284     POINT (-79.24026360000001 43.737949)\n",
       "Name: geometry, Length: 285, dtype: object"
      ]
     },
     "execution_count": 49,
     "metadata": {},
     "output_type": "execute_result"
    }
   ],
   "source": [
    "fuel_stations['geometry']"
   ]
  },
  {
   "cell_type": "code",
   "execution_count": null,
   "metadata": {
    "collapsed": true
   },
   "outputs": [],
   "source": []
  }
 ],
 "metadata": {
  "kernelspec": {
   "display_name": "Python 3",
   "language": "python",
   "name": "python3"
  },
  "language_info": {
   "codemirror_mode": {
    "name": "ipython",
    "version": 3
   },
   "file_extension": ".py",
   "mimetype": "text/x-python",
   "name": "python",
   "nbconvert_exporter": "python",
   "pygments_lexer": "ipython3",
   "version": "3.6.1"
  }
 },
 "nbformat": 4,
 "nbformat_minor": 2
}
